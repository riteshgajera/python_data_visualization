{
 "cells": [
  {
   "cell_type": "markdown",
   "metadata": {
    "_uuid": "d3b2e7007426d4737af8c926e90175746b6ac791"
   },
   "source": [
    "# 911 Calls Data Visualization"
   ]
  },
  {
   "cell_type": "markdown",
   "metadata": {
    "_uuid": "4df51aa7fd8ee4dd2023e7f12fc1b8fb06952d4f"
   },
   "source": [
    "911 call data from [Kaggle](https://www.kaggle.com/mchirico/montcoalert). The data contains the following fields:\n",
    "\n",
    "* lat : String variable, Latitude\n",
    "* lng: String variable, Longitude\n",
    "* desc: String variable, Description of the Emergency Call\n",
    "* zip: String variable, Zipcode\n",
    "* title: String variable, Title\n",
    "* timeStamp: String variable, YYYY-MM-DD HH:MM:SS\n",
    "* twp: String variable, Township\n",
    "* addr: String variable, Address\n",
    "* e: String variable, Dummy variable (always 1)"
   ]
  },
  {
   "cell_type": "markdown",
   "metadata": {
    "_uuid": "d5f8ed42c1cf445937c90f5936ef3b9b953b3403"
   },
   "source": [
    "\n",
    "** Import libraries and set %matplotlib inline.  (Chart display within Jupyter Notebook)**\n",
    " * ** numpy  **\n",
    " * ** pandas  **\n",
    " * ** visualization  **\n",
    " * ** plotly   ** (offine use for notebook)"
   ]
  },
  {
   "cell_type": "code",
   "execution_count": null,
   "metadata": {
    "_uuid": "925d941ff096a3093dde4b29ac4a9cdee3c3b433"
   },
   "outputs": [],
   "source": [
    "import numpy as np\n",
    "import pandas as pd\n",
    "import matplotlib.pyplot as plt\n",
    "import seaborn as sns\n",
    "%matplotlib inline\n",
    "\n",
    "import plotly.graph_objs as go \n",
    "from plotly.offline import init_notebook_mode,iplot\n",
    "init_notebook_mode(connected=True)"
   ]
  },
  {
   "cell_type": "markdown",
   "metadata": {
    "_uuid": "e5472a53722b7622c0857b3bd8073d635ba2eea2"
   },
   "source": [
    "** Load Dataset using panda's read_csv function called callsDataFrame **"
   ]
  },
  {
   "cell_type": "code",
   "execution_count": null,
   "metadata": {
    "_uuid": "7df8adaf05ea6a3f7c576f4e45462d8dcf9fda11"
   },
   "outputs": [],
   "source": [
    "callsDataFrame = pd.read_csv('../input/911.csv')"
   ]
  },
  {
   "cell_type": "markdown",
   "metadata": {
    "_uuid": "5c1595266aa1d442ed144a3f90d9aa545254dbd2"
   },
   "source": [
    "** Check the info() of the callsDataFrame **"
   ]
  },
  {
   "cell_type": "code",
   "execution_count": null,
   "metadata": {
    "_uuid": "dca9fbccfcb328d36fb49b3e5c316bb37cf30faa"
   },
   "outputs": [],
   "source": [
    "callsDataFrame.info()"
   ]
  },
  {
   "cell_type": "markdown",
   "metadata": {
    "_uuid": "e461010f9ef9998f29af123f1f1fcb09fe808ca7"
   },
   "source": [
    "** Check the head of callsDataFrame **"
   ]
  },
  {
   "cell_type": "code",
   "execution_count": null,
   "metadata": {
    "_uuid": "21cec6c33248cfe391e01105b1d2b977d6c934e0"
   },
   "outputs": [],
   "source": [
    "callsDataFrame.head()"
   ]
  },
  {
   "cell_type": "markdown",
   "metadata": {
    "_uuid": "9a89104b778209952423afd772466dbf62cb4e37"
   },
   "source": [
    "** Lets find top 5 zipcodes for 911 calls. **"
   ]
  },
  {
   "cell_type": "code",
   "execution_count": null,
   "metadata": {
    "_uuid": "8a975cb1621f565aa746b6fb0de06aa3b68d9427"
   },
   "outputs": [],
   "source": [
    "callsDataFrame['zip'].value_counts().head(5)"
   ]
  },
  {
   "cell_type": "markdown",
   "metadata": {
    "_uuid": "beabc3218172d3699b9d9b16c739953330140279"
   },
   "source": [
    "** Lets find top 5 townships (twp) for 911 calls **"
   ]
  },
  {
   "cell_type": "code",
   "execution_count": null,
   "metadata": {
    "_uuid": "4ced4c7ee6c11f2d3a3f7bb6c409762fee8a5c21"
   },
   "outputs": [],
   "source": [
    "callsDataFrame['twp'].value_counts().head(5)"
   ]
  },
  {
   "cell_type": "markdown",
   "metadata": {
    "_uuid": "864420062436565749f3ca7752ea308a971a5937"
   },
   "source": [
    "** Take a look at the 'title' column, how many unique title codes are there? **"
   ]
  },
  {
   "cell_type": "code",
   "execution_count": null,
   "metadata": {
    "_uuid": "3cedb1cffaa123afbfcad88c8c5c7c8de2f0b889"
   },
   "outputs": [],
   "source": [
    "# len(df['title'].unique())\n",
    "callsDataFrame['title'].nunique()"
   ]
  },
  {
   "cell_type": "markdown",
   "metadata": {
    "_uuid": "d495fe1c55ba6c4f3060a01fc7d5088893ba9968"
   },
   "source": [
    "## Creating new features"
   ]
  },
  {
   "cell_type": "markdown",
   "metadata": {
    "_uuid": "3d0b9c674c427e111926211bbb37410dfbcd418c"
   },
   "source": [
    "** In the titles column there are \"Reasons/Departments\" specified before the title code. These are EMS, Fire, and Traffic. Use .apply() with a custom lambda expression to create a new column called \"Reason\" that contains this string value.** \n",
    "\n",
    "**For example, if the title column value is EMS: BACK PAINS/INJURY , the Reason column value would be EMS. **"
   ]
  },
  {
   "cell_type": "code",
   "execution_count": null,
   "metadata": {
    "_uuid": "31c6c7d6fc408045e4825da750d1fd9dc4893d1f"
   },
   "outputs": [],
   "source": [
    "x = callsDataFrame['title'].iloc[0]"
   ]
  },
  {
   "cell_type": "code",
   "execution_count": null,
   "metadata": {
    "_uuid": "051c328d6fbaa3db8da7ccfa2857e903c67950db"
   },
   "outputs": [],
   "source": [
    "x.split(':')[0]"
   ]
  },
  {
   "cell_type": "code",
   "execution_count": null,
   "metadata": {
    "_uuid": "94d52a918b60c340d8d801a342e55f57a9690697"
   },
   "outputs": [],
   "source": [
    "callsDataFrame['Reason'] = callsDataFrame['title'].apply(lambda title: title.split(':')[0])"
   ]
  },
  {
   "cell_type": "code",
   "execution_count": null,
   "metadata": {
    "_uuid": "c85078b3b5ae002c3391753fe8d1cab86ab3acf9"
   },
   "outputs": [],
   "source": [
    "callsDataFrame['Reason'].head()"
   ]
  },
  {
   "cell_type": "markdown",
   "metadata": {
    "_uuid": "d707763a1d4f59820b4a01a39028895a72858c3f"
   },
   "source": [
    "** What is the most common Reason for a 911 call based off of this new column? **"
   ]
  },
  {
   "cell_type": "code",
   "execution_count": null,
   "metadata": {
    "_uuid": "e81c66b2ad50088a7bd56ca5f3ac0dafda223101"
   },
   "outputs": [],
   "source": [
    "callsDataFrame['Reason'].value_counts()"
   ]
  },
  {
   "cell_type": "markdown",
   "metadata": {
    "_uuid": "6649eff67203932ed30f68291d993bc813bbf064"
   },
   "source": [
    "** Let's use seaborn to create a countplot of 911 calls by Reason. **"
   ]
  },
  {
   "cell_type": "code",
   "execution_count": null,
   "metadata": {
    "_uuid": "f3ad768bd80f5a9cd7d87dd4dc262f6f268aa528"
   },
   "outputs": [],
   "source": [
    "sns.countplot(x='Reason', data=callsDataFrame)"
   ]
  },
  {
   "cell_type": "markdown",
   "metadata": {
    "_uuid": "c46f347e2fff469744624ddb4ef91186b1c0583a"
   },
   "source": [
    "** Let's use plotly to create bar chart of 911 calls by Reason. **"
   ]
  },
  {
   "cell_type": "code",
   "execution_count": null,
   "metadata": {
    "_uuid": "2fa0acd21846af3f0b61b7811f87dcf45d0caa3e",
    "scrolled": true
   },
   "outputs": [],
   "source": [
    "data = [go.Bar(\n",
    "            x=['EMS', 'Fire', 'Traffic'],\n",
    "            y=callsDataFrame['Reason'].value_counts()\n",
    "    )]\n",
    "\n",
    "iplot(data, filename='basic-bar')"
   ]
  },
  {
   "cell_type": "markdown",
   "metadata": {
    "_uuid": "b19075eabdddc49f68cf1a32905ba2f9ec8e3b5c"
   },
   "source": [
    "___\n",
    "** Now let us begin to focus on time information. What is the data type of the objects in the timeStamp column? **"
   ]
  },
  {
   "cell_type": "code",
   "execution_count": null,
   "metadata": {
    "_uuid": "7054eed9bf96a95ceb322dfb712ce7eac7d7a536"
   },
   "outputs": [],
   "source": [
    "type(callsDataFrame['timeStamp'].iloc[0])"
   ]
  },
  {
   "cell_type": "markdown",
   "metadata": {
    "_uuid": "dcf05429a0b90c04f36df7d7629d10cb80a21fc3"
   },
   "source": [
    "** You should have seen that these timestamps are still strings. Use [pd.to_datetime](http://pandas.pydata.org/pandas-docs/stable/generated/pandas.to_datetime.html) to convert the column from strings to DateTime objects. **"
   ]
  },
  {
   "cell_type": "code",
   "execution_count": null,
   "metadata": {
    "_uuid": "ab122369aa84925fdd99046364c1803f7669831a"
   },
   "outputs": [],
   "source": [
    "callsDataFrame['timeStamp'] = pd.to_datetime(callsDataFrame['timeStamp'])"
   ]
  },
  {
   "cell_type": "code",
   "execution_count": null,
   "metadata": {
    "_uuid": "94678221bfca52f6d18662aa70ab53425b87235a"
   },
   "outputs": [],
   "source": [
    "callsDataFrame['timeStamp'].iloc[0]"
   ]
  },
  {
   "cell_type": "markdown",
   "metadata": {
    "_uuid": "2a1029b5feed2d18e8e3afba5ec17938e8ad7f8c"
   },
   "source": [
    "** You can now grab specific attributes from a Datetime object by calling them. For example:**\n",
    "\n",
    "    time = df['timeStamp'].iloc[0]\n",
    "    time.hour\n",
    "\n",
    "**You can use Jupyter's tab method to explore the various attributes you can call. Now that the timestamp column are actually DateTime objects, use .apply() to create 3 new columns called Hour, Month, and Day of Week. You will create these columns based off of the timeStamp column, reference the solutions if you get stuck on this step.**"
   ]
  },
  {
   "cell_type": "code",
   "execution_count": null,
   "metadata": {
    "_uuid": "0de2807cac855b8112c4c756069d53a473b5b0a2"
   },
   "outputs": [],
   "source": [
    "time = callsDataFrame['timeStamp'].iloc[0]\n",
    "time.hour"
   ]
  },
  {
   "cell_type": "code",
   "execution_count": null,
   "metadata": {
    "_uuid": "0bfe5b85345077c08e9eda3b8e0a3766c81d4412"
   },
   "outputs": [],
   "source": [
    "time.month"
   ]
  },
  {
   "cell_type": "code",
   "execution_count": null,
   "metadata": {
    "_uuid": "7fb1cec923ce8279f3671715c59c1fe366712c53"
   },
   "outputs": [],
   "source": [
    "time.dayofweek"
   ]
  },
  {
   "cell_type": "code",
   "execution_count": null,
   "metadata": {
    "_uuid": "38ae0252f1ac4d4a4ab30fa986215761b00feea3"
   },
   "outputs": [],
   "source": [
    "callsDataFrame['Hour'] = callsDataFrame['timeStamp'].apply(lambda time: time.hour)"
   ]
  },
  {
   "cell_type": "code",
   "execution_count": null,
   "metadata": {
    "_uuid": "97bde6f1c2a62cf8e6e4d3ca96b0740ef3781158"
   },
   "outputs": [],
   "source": [
    "callsDataFrame['Month'] = callsDataFrame['timeStamp'].apply(lambda time: time.month)"
   ]
  },
  {
   "cell_type": "code",
   "execution_count": null,
   "metadata": {
    "_uuid": "b9815b14ed0222d24356cd064357cb5e8d4978ff"
   },
   "outputs": [],
   "source": [
    "callsDataFrame['Day Of Week'] = callsDataFrame['timeStamp'].apply(lambda time: time.dayofweek)"
   ]
  },
  {
   "cell_type": "code",
   "execution_count": null,
   "metadata": {
    "_uuid": "fb3d46fb53e7ed915dbf601c7067b6c4c7fecc4d"
   },
   "outputs": [],
   "source": [
    "callsDataFrame.head(5)"
   ]
  },
  {
   "cell_type": "markdown",
   "metadata": {
    "_uuid": "f5f07e70522ec7c0467a106e2402d598cc514eb1"
   },
   "source": [
    "** Notice how the Day of Week is an integer 0-6. Use the .map() with this dictionary to map the actual string names to the day of the week: **\n",
    "\n",
    "    dmap = {0:'Mon',1:'Tue',2:'Wed',3:'Thu',4:'Fri',5:'Sat',6:'Sun'}"
   ]
  },
  {
   "cell_type": "code",
   "execution_count": null,
   "metadata": {
    "_uuid": "c53a4b38f383902e33eef84b32025c45550d972e"
   },
   "outputs": [],
   "source": [
    "dmap = {0:'Mon',1:'Tue',2:'Wed',3:'Thu',4:'Fri',5:'Sat',6:'Sun'}"
   ]
  },
  {
   "cell_type": "code",
   "execution_count": null,
   "metadata": {
    "_uuid": "ab6e23bdce361e98da4d7d71262fd9070e29208c"
   },
   "outputs": [],
   "source": [
    "callsDataFrame['Day Of Week'] = callsDataFrame['Day Of Week'].map(dmap)"
   ]
  },
  {
   "cell_type": "code",
   "execution_count": null,
   "metadata": {
    "_uuid": "4f0533459567ee4fc49a3f808c781bf943943f1d"
   },
   "outputs": [],
   "source": [
    "callsDataFrame.head()"
   ]
  },
  {
   "cell_type": "markdown",
   "metadata": {
    "_uuid": "9a997e2f03a5ec835145178c6cc695b8d9d68717"
   },
   "source": [
    "** Now use seaborn to create a countplot of the Day of Week column with the hue based off of the Reason column. **"
   ]
  },
  {
   "cell_type": "code",
   "execution_count": null,
   "metadata": {
    "_uuid": "d2deb3447775ca0fd1a69525b0321db653875cc4"
   },
   "outputs": [],
   "source": [
    "sns.countplot(x = 'Day Of Week', data = callsDataFrame, hue = 'Reason', palette=\"rocket\")\n",
    "\n",
    "# Put the legend out of the figure\n",
    "plt.legend(bbox_to_anchor=(1.05, 1), loc=2, borderaxespad=0.)"
   ]
  },
  {
   "cell_type": "markdown",
   "metadata": {
    "_uuid": "8e4603837874a59e0c50b58ff42e56b06667c546"
   },
   "source": [
    "**Now do the same for Month:**"
   ]
  },
  {
   "cell_type": "code",
   "execution_count": null,
   "metadata": {
    "_uuid": "1205d8d524edbb640e7ef2d4a816c734f9471ac4"
   },
   "outputs": [],
   "source": [
    "sns.countplot(x = 'Month', data = callsDataFrame, hue = 'Reason', palette=\"rocket\")\n",
    "\n",
    "# Put the legend out of the figure\n",
    "plt.legend(bbox_to_anchor=(1.05, 1), loc=2, borderaxespad=0.)"
   ]
  },
  {
   "cell_type": "markdown",
   "metadata": {
    "_uuid": "7a9f2375460b097d98650ece47b8c64729940cb9"
   },
   "source": [
    "** Here noticed that, it was missing some Months, let's see if we can fill in the missing months**"
   ]
  },
  {
   "cell_type": "markdown",
   "metadata": {
    "_uuid": "90576aca76e7124393261cd912a8c21e927052b6"
   },
   "source": [
    "** Now create a gropuby object called byMonth, where you group the DataFrame by the month column and use the count() method for aggregation.**"
   ]
  },
  {
   "cell_type": "code",
   "execution_count": null,
   "metadata": {
    "_uuid": "ccfdfda823c7bbe0fa04fd6abeea066303ddbb86"
   },
   "outputs": [],
   "source": [
    "byMonth = callsDataFrame.groupby('Month').count()"
   ]
  },
  {
   "cell_type": "code",
   "execution_count": null,
   "metadata": {
    "_uuid": "90adb22972f1ea936796a8acdcbcd618df1d126d"
   },
   "outputs": [],
   "source": [
    "byMonth.head()"
   ]
  },
  {
   "cell_type": "markdown",
   "metadata": {
    "_uuid": "f264c706e994e7ddf48f1360f3d65c64fdda3f46"
   },
   "source": [
    "** Now create a simple plot off of the dataframe indicating the count of calls per month. **"
   ]
  },
  {
   "cell_type": "code",
   "execution_count": null,
   "metadata": {
    "_uuid": "0d8280831f5b3192b3b4dcd2ba6ec01a231f3503"
   },
   "outputs": [],
   "source": [
    "byMonth['lat'].plot()"
   ]
  },
  {
   "cell_type": "code",
   "execution_count": null,
   "metadata": {
    "_uuid": "6cfe7e8361d6b0b03a86ef821404b1cc1dd02624"
   },
   "outputs": [],
   "source": [
    "sns.countplot(x='Month', data=callsDataFrame, palette='rocket')\n",
    "\n",
    "# Put the legend out of the figure\n",
    "plt.legend(bbox_to_anchor=(1.05, 1), loc=2, borderaxespad=0.)"
   ]
  },
  {
   "cell_type": "markdown",
   "metadata": {
    "_uuid": "52822ca66d27b3f61c36eb65cf8b7a68e511e4f4"
   },
   "source": [
    "** Now see if you can use seaborn's lmplot() to create a linear fit on the number of calls per month. Keep in mind you may need to reset the index to a column. **"
   ]
  },
  {
   "cell_type": "code",
   "execution_count": null,
   "metadata": {
    "_uuid": "3bd818ed7532a9aec55490d9193d211de7cafafa"
   },
   "outputs": [],
   "source": [
    "## Resert Or convert the Month index to Column\n",
    "byMonth.reset_index()"
   ]
  },
  {
   "cell_type": "code",
   "execution_count": null,
   "metadata": {
    "_uuid": "2fba13d6b2abab495a6ce950382c26e462f98fa8"
   },
   "outputs": [],
   "source": [
    "## Here I'm using seaborn liner plot passing Month Column as DATA\n",
    "sns.lmplot(x='Month', y='twp', data=byMonth.reset_index())"
   ]
  },
  {
   "cell_type": "markdown",
   "metadata": {
    "_uuid": "faaf46e7a9816efabb766412cddce96864ddbd6c"
   },
   "source": [
    "**Create a new column called 'Date' that contains the date from the timeStamp column. You'll need to use apply along with the .date() method. ** "
   ]
  },
  {
   "cell_type": "code",
   "execution_count": null,
   "metadata": {
    "_uuid": "12e3e545eaa7509a534a2e34bc228c2a1d40395b"
   },
   "outputs": [],
   "source": [
    "callsDataFrame['timeStamp'].iloc[0]"
   ]
  },
  {
   "cell_type": "code",
   "execution_count": null,
   "metadata": {
    "_uuid": "3cd853821f61c90772b0ddc7dbf21347efe06bbd"
   },
   "outputs": [],
   "source": [
    "callsDataFrame['timeStamp'].iloc[0].date()"
   ]
  },
  {
   "cell_type": "code",
   "execution_count": null,
   "metadata": {
    "_uuid": "bc77388985df6ff45a82346f71591c9097e6c0d4"
   },
   "outputs": [],
   "source": [
    "# Creating new 'Date' column using timeStamp column\n",
    "callsDataFrame['Date'] = callsDataFrame['timeStamp'].apply(lambda ts : ts.date())"
   ]
  },
  {
   "cell_type": "code",
   "execution_count": null,
   "metadata": {
    "_uuid": "34b830717a7c1694747cd1be8e6daa7a60f78f95"
   },
   "outputs": [],
   "source": [
    "callsDataFrame['Date'].head()"
   ]
  },
  {
   "cell_type": "code",
   "execution_count": null,
   "metadata": {
    "_uuid": "857b3d7b325bdd85d45436813f2763bb5243cf28"
   },
   "outputs": [],
   "source": [
    "## Here, we can see Date Column inside DataFrame\n",
    "callsDataFrame.head()"
   ]
  },
  {
   "cell_type": "markdown",
   "metadata": {
    "_uuid": "683bcb8d66270f8f532b75acc50793d090548a28"
   },
   "source": [
    "** Now groupby this Date column with the count() aggregate and create a plot of counts of 911 calls.**"
   ]
  },
  {
   "cell_type": "code",
   "execution_count": null,
   "metadata": {
    "_uuid": "603133aceb80ea0bd8e3cc7637f8e45ee7505f75"
   },
   "outputs": [],
   "source": [
    "callsDataFrame.groupby('Date').count()['lat'].plot()\n",
    "plt.tight_layout()"
   ]
  },
  {
   "cell_type": "markdown",
   "metadata": {
    "_uuid": "cacd423fc9c7793d75d8dda75b1a52eb987419e6"
   },
   "source": [
    "** Now recreate this plot but create 3 separate plots with each plot representing a Reason for the 911 call**"
   ]
  },
  {
   "cell_type": "code",
   "execution_count": null,
   "metadata": {
    "_uuid": "825c75ae5ee75ca881ef7f010323b5bfaaee4c5e"
   },
   "outputs": [],
   "source": [
    "callsDataFrame[callsDataFrame['Reason'] == 'Traffic'].groupby('Date').count()['lat'].plot()\n",
    "plt.title('Traffic')\n",
    "plt.tight_layout()"
   ]
  },
  {
   "cell_type": "code",
   "execution_count": null,
   "metadata": {
    "_uuid": "bc604a583ef45badcff900affbe14ed322ab1c63"
   },
   "outputs": [],
   "source": [
    "callsDataFrame[callsDataFrame['Reason'] == 'Fire'].groupby('Date').count()['lat'].plot()\n",
    "plt.title('Fire')\n",
    "plt.tight_layout()"
   ]
  },
  {
   "cell_type": "code",
   "execution_count": null,
   "metadata": {
    "_uuid": "e0c6dfa935abc77008bf678263f78005527443f4"
   },
   "outputs": [],
   "source": [
    "callsDataFrame[callsDataFrame['Reason'] == 'EMS'].groupby('Date').count()['lat'].plot()\n",
    "plt.title('EMS')\n",
    "plt.tight_layout()"
   ]
  },
  {
   "cell_type": "markdown",
   "metadata": {
    "_uuid": "15ab0ddd17dd4c9a31e1c5d80c0f79a58e065c12"
   },
   "source": [
    "____\n",
    "** Now let's move on to creating  heatmaps with seaborn and our data. We'll first need to restructure the dataframe so that the columns become the Hours and the Index becomes the Day of the Week. There are lots of ways to do this, but I would recommend trying to combine groupby with an [unstack](http://pandas.pydata.org/pandas-docs/stable/generated/pandas.DataFrame.unstack.html) method. Reference the solutions if you get stuck on this!**"
   ]
  },
  {
   "cell_type": "code",
   "execution_count": null,
   "metadata": {
    "_uuid": "67d7b03a0868780ac2240d7ac23b46e7c497924e"
   },
   "outputs": [],
   "source": [
    "# Multilevel index count\n",
    "callsDataFrame.groupby(by=['Day Of Week', 'Hour']).count().head()"
   ]
  },
  {
   "cell_type": "code",
   "execution_count": null,
   "metadata": {
    "_uuid": "917d6533884d67eb419db5734d17d98ad424f140"
   },
   "outputs": [],
   "source": [
    "callsDataFrame.groupby(by=['Day Of Week', 'Hour']).count()['Reason'].head()"
   ]
  },
  {
   "cell_type": "code",
   "execution_count": null,
   "metadata": {
    "_uuid": "4e403d5d94ad29359dddacd5d371989168255fb6"
   },
   "outputs": [],
   "source": [
    "# Having matric level table (* There is an alternate ways like pivot table)\n",
    "callsDataFrame.groupby(by=['Day Of Week', 'Hour']).count()['Reason'].unstack()"
   ]
  },
  {
   "cell_type": "code",
   "execution_count": null,
   "metadata": {
    "_uuid": "136ce8c14f976000a07e16ee607788fefd079a44"
   },
   "outputs": [],
   "source": [
    "dayHour = callsDataFrame.groupby(by=['Day Of Week', 'Hour']).count()['Reason'].unstack()"
   ]
  },
  {
   "cell_type": "markdown",
   "metadata": {
    "_uuid": "e8bd43ae15a2db776b2d24798cb26798a91165a9"
   },
   "source": [
    "** Now create a HeatMap using this new DataFrame. **"
   ]
  },
  {
   "cell_type": "code",
   "execution_count": null,
   "metadata": {
    "_uuid": "fdf072ea4aae940a02b9bdbb58a19c5d1e50ae06"
   },
   "outputs": [],
   "source": [
    "## Day Of Week Vs Hour\n",
    "sns.heatmap(dayHour)"
   ]
  },
  {
   "cell_type": "markdown",
   "metadata": {
    "_uuid": "c5bd3fa7d9fe9c40751c6304307e10118a35ff6e"
   },
   "source": [
    "** Now create a clustermap using this DataFrame. **"
   ]
  },
  {
   "cell_type": "code",
   "execution_count": null,
   "metadata": {
    "_uuid": "337f828fb5a407df585a4b03a2bbc08a3a159b4a"
   },
   "outputs": [],
   "source": [
    "sns.clustermap(dayHour)"
   ]
  },
  {
   "cell_type": "markdown",
   "metadata": {
    "_uuid": "6f6c939592bcdc430066caf9f0ce4925dce949d2"
   },
   "source": [
    "** Now repeat these same plots and operations, for a DataFrame that shows the Month as the column. **"
   ]
  },
  {
   "cell_type": "code",
   "execution_count": null,
   "metadata": {
    "_uuid": "ce6e5a3c77bcbacd5e8a2dac6ff2781e756d52ee"
   },
   "outputs": [],
   "source": [
    "dayMonth = callsDataFrame.groupby(by=['Day Of Week', 'Month']).count()['Reason'].unstack()"
   ]
  },
  {
   "cell_type": "code",
   "execution_count": null,
   "metadata": {
    "_uuid": "f1ea5871a980bc4e665d1b60845a91cd73b43629"
   },
   "outputs": [],
   "source": [
    "sns.heatmap(dayMonth)"
   ]
  },
  {
   "cell_type": "code",
   "execution_count": null,
   "metadata": {
    "_uuid": "38ced43590929f206b3293ceebe7e2f8d7ed75a7"
   },
   "outputs": [],
   "source": [
    "sns.clustermap(dayMonth)"
   ]
  },
  {
   "cell_type": "markdown",
   "metadata": {
    "_uuid": "6510d8eb8445e7b4e5ebe40c2e342fb1618e4aa5",
    "collapsed": true
   },
   "source": [
    "**That's It!**"
   ]
  },
  {
   "cell_type": "code",
   "execution_count": null,
   "metadata": {
    "_uuid": "8cb8476ba4362d82a7bdc30a385c6e9d4d30ef62"
   },
   "outputs": [],
   "source": []
  }
 ],
 "metadata": {
  "kernelspec": {
   "display_name": "Python 3",
   "language": "python",
   "name": "python3"
  },
  "language_info": {
   "codemirror_mode": {
    "name": "ipython",
    "version": 3
   },
   "file_extension": ".py",
   "mimetype": "text/x-python",
   "name": "python",
   "nbconvert_exporter": "python",
   "pygments_lexer": "ipython3",
   "version": "3.6.4"
  }
 },
 "nbformat": 4,
 "nbformat_minor": 1
}
